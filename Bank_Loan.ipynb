{
  "cells": [
    {
      "cell_type": "code",
      "execution_count": null,
      "metadata": {
        "id": "-k0EAKxNBRkM"
      },
      "outputs": [],
      "source": [
        "import pandas as pd"
      ]
    },
    {
      "cell_type": "code",
      "execution_count": null,
      "metadata": {
        "id": "Xv2O17qKBXf7"
      },
      "outputs": [],
      "source": [
        "train_data=pd.read_csv(\"credit_train.csv\")"
      ]
    },
    {
      "cell_type": "code",
      "execution_count": null,
      "metadata": {
        "colab": {
          "base_uri": "https://localhost:8080/"
        },
        "id": "Y-rAjFnwBss2",
        "outputId": "b96810f4-f3d4-47dd-fd8f-3f8f10ab9339"
      },
      "outputs": [
        {
          "output_type": "execute_result",
          "data": {
            "text/plain": [
              "(100514, 19)"
            ]
          },
          "metadata": {},
          "execution_count": 42
        }
      ],
      "source": [
        "train_data.shape"
      ]
    },
    {
      "cell_type": "code",
      "execution_count": null,
      "metadata": {
        "colab": {
          "base_uri": "https://localhost:8080/",
          "height": 583
        },
        "id": "qN863j8bBue-",
        "outputId": "628bcc0c-cf1d-48de-9db1-8664ca2291ea"
      },
      "outputs": [
        {
          "output_type": "execute_result",
          "data": {
            "text/plain": [
              "                                Loan ID                           Customer ID  \\\n",
              "0  14dd8831-6af5-400b-83ec-68e61888a048  981165ec-3274-42f5-a3b4-d104041a9ca9   \n",
              "1  4771cc26-131a-45db-b5aa-537ea4ba5342  2de017a3-2e01-49cb-a581-08169e83be29   \n",
              "2  4eed4e6a-aa2f-4c91-8651-ce984ee8fb26  5efb2b2b-bf11-4dfd-a572-3761a2694725   \n",
              "3  77598f7b-32e7-4e3b-a6e5-06ba0d98fe8a  e777faab-98ae-45af-9a86-7ce5b33b1011   \n",
              "4  d4062e70-befa-4995-8643-a0de73938182  81536ad9-5ccf-4eb8-befb-47a4d608658e   \n",
              "\n",
              "  Loan Status  Current Loan Amount        Term  Credit Score  Annual Income  \\\n",
              "0  Fully Paid             445412.0  Short Term         709.0      1167493.0   \n",
              "1  Fully Paid             262328.0  Short Term           NaN            NaN   \n",
              "2  Fully Paid           99999999.0  Short Term         741.0      2231892.0   \n",
              "3  Fully Paid             347666.0   Long Term         721.0       806949.0   \n",
              "4  Fully Paid             176220.0  Short Term           NaN            NaN   \n",
              "\n",
              "  Years in current job Home Ownership             Purpose  Monthly Debt  \\\n",
              "0              8 years  Home Mortgage   Home Improvements       5214.74   \n",
              "1            10+ years  Home Mortgage  Debt Consolidation      33295.98   \n",
              "2              8 years       Own Home  Debt Consolidation      29200.53   \n",
              "3              3 years       Own Home  Debt Consolidation       8741.90   \n",
              "4              5 years           Rent  Debt Consolidation      20639.70   \n",
              "\n",
              "   Years of Credit History  Months since last delinquent  \\\n",
              "0                     17.2                           NaN   \n",
              "1                     21.1                           8.0   \n",
              "2                     14.9                          29.0   \n",
              "3                     12.0                           NaN   \n",
              "4                      6.1                           NaN   \n",
              "\n",
              "   Number of Open Accounts  Number of Credit Problems  Current Credit Balance  \\\n",
              "0                      6.0                        1.0                228190.0   \n",
              "1                     35.0                        0.0                229976.0   \n",
              "2                     18.0                        1.0                297996.0   \n",
              "3                      9.0                        0.0                256329.0   \n",
              "4                     15.0                        0.0                253460.0   \n",
              "\n",
              "   Maximum Open Credit  Bankruptcies  Tax Liens  \n",
              "0             416746.0           1.0        0.0  \n",
              "1             850784.0           0.0        0.0  \n",
              "2             750090.0           0.0        0.0  \n",
              "3             386958.0           0.0        0.0  \n",
              "4             427174.0           0.0        0.0  "
            ],
            "text/html": [
              "\n",
              "  <div id=\"df-eeb5e38a-5c08-4cfd-9881-dcef36927922\">\n",
              "    <div class=\"colab-df-container\">\n",
              "      <div>\n",
              "<style scoped>\n",
              "    .dataframe tbody tr th:only-of-type {\n",
              "        vertical-align: middle;\n",
              "    }\n",
              "\n",
              "    .dataframe tbody tr th {\n",
              "        vertical-align: top;\n",
              "    }\n",
              "\n",
              "    .dataframe thead th {\n",
              "        text-align: right;\n",
              "    }\n",
              "</style>\n",
              "<table border=\"1\" class=\"dataframe\">\n",
              "  <thead>\n",
              "    <tr style=\"text-align: right;\">\n",
              "      <th></th>\n",
              "      <th>Loan ID</th>\n",
              "      <th>Customer ID</th>\n",
              "      <th>Loan Status</th>\n",
              "      <th>Current Loan Amount</th>\n",
              "      <th>Term</th>\n",
              "      <th>Credit Score</th>\n",
              "      <th>Annual Income</th>\n",
              "      <th>Years in current job</th>\n",
              "      <th>Home Ownership</th>\n",
              "      <th>Purpose</th>\n",
              "      <th>Monthly Debt</th>\n",
              "      <th>Years of Credit History</th>\n",
              "      <th>Months since last delinquent</th>\n",
              "      <th>Number of Open Accounts</th>\n",
              "      <th>Number of Credit Problems</th>\n",
              "      <th>Current Credit Balance</th>\n",
              "      <th>Maximum Open Credit</th>\n",
              "      <th>Bankruptcies</th>\n",
              "      <th>Tax Liens</th>\n",
              "    </tr>\n",
              "  </thead>\n",
              "  <tbody>\n",
              "    <tr>\n",
              "      <th>0</th>\n",
              "      <td>14dd8831-6af5-400b-83ec-68e61888a048</td>\n",
              "      <td>981165ec-3274-42f5-a3b4-d104041a9ca9</td>\n",
              "      <td>Fully Paid</td>\n",
              "      <td>445412.0</td>\n",
              "      <td>Short Term</td>\n",
              "      <td>709.0</td>\n",
              "      <td>1167493.0</td>\n",
              "      <td>8 years</td>\n",
              "      <td>Home Mortgage</td>\n",
              "      <td>Home Improvements</td>\n",
              "      <td>5214.74</td>\n",
              "      <td>17.2</td>\n",
              "      <td>NaN</td>\n",
              "      <td>6.0</td>\n",
              "      <td>1.0</td>\n",
              "      <td>228190.0</td>\n",
              "      <td>416746.0</td>\n",
              "      <td>1.0</td>\n",
              "      <td>0.0</td>\n",
              "    </tr>\n",
              "    <tr>\n",
              "      <th>1</th>\n",
              "      <td>4771cc26-131a-45db-b5aa-537ea4ba5342</td>\n",
              "      <td>2de017a3-2e01-49cb-a581-08169e83be29</td>\n",
              "      <td>Fully Paid</td>\n",
              "      <td>262328.0</td>\n",
              "      <td>Short Term</td>\n",
              "      <td>NaN</td>\n",
              "      <td>NaN</td>\n",
              "      <td>10+ years</td>\n",
              "      <td>Home Mortgage</td>\n",
              "      <td>Debt Consolidation</td>\n",
              "      <td>33295.98</td>\n",
              "      <td>21.1</td>\n",
              "      <td>8.0</td>\n",
              "      <td>35.0</td>\n",
              "      <td>0.0</td>\n",
              "      <td>229976.0</td>\n",
              "      <td>850784.0</td>\n",
              "      <td>0.0</td>\n",
              "      <td>0.0</td>\n",
              "    </tr>\n",
              "    <tr>\n",
              "      <th>2</th>\n",
              "      <td>4eed4e6a-aa2f-4c91-8651-ce984ee8fb26</td>\n",
              "      <td>5efb2b2b-bf11-4dfd-a572-3761a2694725</td>\n",
              "      <td>Fully Paid</td>\n",
              "      <td>99999999.0</td>\n",
              "      <td>Short Term</td>\n",
              "      <td>741.0</td>\n",
              "      <td>2231892.0</td>\n",
              "      <td>8 years</td>\n",
              "      <td>Own Home</td>\n",
              "      <td>Debt Consolidation</td>\n",
              "      <td>29200.53</td>\n",
              "      <td>14.9</td>\n",
              "      <td>29.0</td>\n",
              "      <td>18.0</td>\n",
              "      <td>1.0</td>\n",
              "      <td>297996.0</td>\n",
              "      <td>750090.0</td>\n",
              "      <td>0.0</td>\n",
              "      <td>0.0</td>\n",
              "    </tr>\n",
              "    <tr>\n",
              "      <th>3</th>\n",
              "      <td>77598f7b-32e7-4e3b-a6e5-06ba0d98fe8a</td>\n",
              "      <td>e777faab-98ae-45af-9a86-7ce5b33b1011</td>\n",
              "      <td>Fully Paid</td>\n",
              "      <td>347666.0</td>\n",
              "      <td>Long Term</td>\n",
              "      <td>721.0</td>\n",
              "      <td>806949.0</td>\n",
              "      <td>3 years</td>\n",
              "      <td>Own Home</td>\n",
              "      <td>Debt Consolidation</td>\n",
              "      <td>8741.90</td>\n",
              "      <td>12.0</td>\n",
              "      <td>NaN</td>\n",
              "      <td>9.0</td>\n",
              "      <td>0.0</td>\n",
              "      <td>256329.0</td>\n",
              "      <td>386958.0</td>\n",
              "      <td>0.0</td>\n",
              "      <td>0.0</td>\n",
              "    </tr>\n",
              "    <tr>\n",
              "      <th>4</th>\n",
              "      <td>d4062e70-befa-4995-8643-a0de73938182</td>\n",
              "      <td>81536ad9-5ccf-4eb8-befb-47a4d608658e</td>\n",
              "      <td>Fully Paid</td>\n",
              "      <td>176220.0</td>\n",
              "      <td>Short Term</td>\n",
              "      <td>NaN</td>\n",
              "      <td>NaN</td>\n",
              "      <td>5 years</td>\n",
              "      <td>Rent</td>\n",
              "      <td>Debt Consolidation</td>\n",
              "      <td>20639.70</td>\n",
              "      <td>6.1</td>\n",
              "      <td>NaN</td>\n",
              "      <td>15.0</td>\n",
              "      <td>0.0</td>\n",
              "      <td>253460.0</td>\n",
              "      <td>427174.0</td>\n",
              "      <td>0.0</td>\n",
              "      <td>0.0</td>\n",
              "    </tr>\n",
              "  </tbody>\n",
              "</table>\n",
              "</div>\n",
              "      <button class=\"colab-df-convert\" onclick=\"convertToInteractive('df-eeb5e38a-5c08-4cfd-9881-dcef36927922')\"\n",
              "              title=\"Convert this dataframe to an interactive table.\"\n",
              "              style=\"display:none;\">\n",
              "        \n",
              "  <svg xmlns=\"http://www.w3.org/2000/svg\" height=\"24px\"viewBox=\"0 0 24 24\"\n",
              "       width=\"24px\">\n",
              "    <path d=\"M0 0h24v24H0V0z\" fill=\"none\"/>\n",
              "    <path d=\"M18.56 5.44l.94 2.06.94-2.06 2.06-.94-2.06-.94-.94-2.06-.94 2.06-2.06.94zm-11 1L8.5 8.5l.94-2.06 2.06-.94-2.06-.94L8.5 2.5l-.94 2.06-2.06.94zm10 10l.94 2.06.94-2.06 2.06-.94-2.06-.94-.94-2.06-.94 2.06-2.06.94z\"/><path d=\"M17.41 7.96l-1.37-1.37c-.4-.4-.92-.59-1.43-.59-.52 0-1.04.2-1.43.59L10.3 9.45l-7.72 7.72c-.78.78-.78 2.05 0 2.83L4 21.41c.39.39.9.59 1.41.59.51 0 1.02-.2 1.41-.59l7.78-7.78 2.81-2.81c.8-.78.8-2.07 0-2.86zM5.41 20L4 18.59l7.72-7.72 1.47 1.35L5.41 20z\"/>\n",
              "  </svg>\n",
              "      </button>\n",
              "      \n",
              "  <style>\n",
              "    .colab-df-container {\n",
              "      display:flex;\n",
              "      flex-wrap:wrap;\n",
              "      gap: 12px;\n",
              "    }\n",
              "\n",
              "    .colab-df-convert {\n",
              "      background-color: #E8F0FE;\n",
              "      border: none;\n",
              "      border-radius: 50%;\n",
              "      cursor: pointer;\n",
              "      display: none;\n",
              "      fill: #1967D2;\n",
              "      height: 32px;\n",
              "      padding: 0 0 0 0;\n",
              "      width: 32px;\n",
              "    }\n",
              "\n",
              "    .colab-df-convert:hover {\n",
              "      background-color: #E2EBFA;\n",
              "      box-shadow: 0px 1px 2px rgba(60, 64, 67, 0.3), 0px 1px 3px 1px rgba(60, 64, 67, 0.15);\n",
              "      fill: #174EA6;\n",
              "    }\n",
              "\n",
              "    [theme=dark] .colab-df-convert {\n",
              "      background-color: #3B4455;\n",
              "      fill: #D2E3FC;\n",
              "    }\n",
              "\n",
              "    [theme=dark] .colab-df-convert:hover {\n",
              "      background-color: #434B5C;\n",
              "      box-shadow: 0px 1px 3px 1px rgba(0, 0, 0, 0.15);\n",
              "      filter: drop-shadow(0px 1px 2px rgba(0, 0, 0, 0.3));\n",
              "      fill: #FFFFFF;\n",
              "    }\n",
              "  </style>\n",
              "\n",
              "      <script>\n",
              "        const buttonEl =\n",
              "          document.querySelector('#df-eeb5e38a-5c08-4cfd-9881-dcef36927922 button.colab-df-convert');\n",
              "        buttonEl.style.display =\n",
              "          google.colab.kernel.accessAllowed ? 'block' : 'none';\n",
              "\n",
              "        async function convertToInteractive(key) {\n",
              "          const element = document.querySelector('#df-eeb5e38a-5c08-4cfd-9881-dcef36927922');\n",
              "          const dataTable =\n",
              "            await google.colab.kernel.invokeFunction('convertToInteractive',\n",
              "                                                     [key], {});\n",
              "          if (!dataTable) return;\n",
              "\n",
              "          const docLinkHtml = 'Like what you see? Visit the ' +\n",
              "            '<a target=\"_blank\" href=https://colab.research.google.com/notebooks/data_table.ipynb>data table notebook</a>'\n",
              "            + ' to learn more about interactive tables.';\n",
              "          element.innerHTML = '';\n",
              "          dataTable['output_type'] = 'display_data';\n",
              "          await google.colab.output.renderOutput(dataTable, element);\n",
              "          const docLink = document.createElement('div');\n",
              "          docLink.innerHTML = docLinkHtml;\n",
              "          element.appendChild(docLink);\n",
              "        }\n",
              "      </script>\n",
              "    </div>\n",
              "  </div>\n",
              "  "
            ]
          },
          "metadata": {},
          "execution_count": 43
        }
      ],
      "source": [
        "train_data.head()"
      ]
    },
    {
      "cell_type": "code",
      "execution_count": null,
      "metadata": {
        "colab": {
          "base_uri": "https://localhost:8080/"
        },
        "id": "stvlCi1EB0vY",
        "outputId": "6bc70f55-eb99-4a14-e7b4-4989610b6f57"
      },
      "outputs": [
        {
          "output_type": "execute_result",
          "data": {
            "text/plain": [
              "Fully Paid     77361\n",
              "Charged Off    22639\n",
              "Name: Loan Status, dtype: int64"
            ]
          },
          "metadata": {},
          "execution_count": 44
        }
      ],
      "source": [
        "train_data['Loan Status'].value_counts()"
      ]
    },
    {
      "cell_type": "code",
      "execution_count": null,
      "metadata": {
        "colab": {
          "base_uri": "https://localhost:8080/"
        },
        "id": "kUO9bYPUCBF-",
        "outputId": "0246067b-8078-4cf4-9945-576559caf048"
      },
      "outputs": [
        {
          "output_type": "stream",
          "name": "stdout",
          "text": [
            "<class 'pandas.core.frame.DataFrame'>\n",
            "RangeIndex: 100514 entries, 0 to 100513\n",
            "Data columns (total 19 columns):\n",
            " #   Column                        Non-Null Count   Dtype  \n",
            "---  ------                        --------------   -----  \n",
            " 0   Loan ID                       100000 non-null  object \n",
            " 1   Customer ID                   100000 non-null  object \n",
            " 2   Loan Status                   100000 non-null  object \n",
            " 3   Current Loan Amount           100000 non-null  float64\n",
            " 4   Term                          100000 non-null  object \n",
            " 5   Credit Score                  80846 non-null   float64\n",
            " 6   Annual Income                 80846 non-null   float64\n",
            " 7   Years in current job          95778 non-null   object \n",
            " 8   Home Ownership                100000 non-null  object \n",
            " 9   Purpose                       100000 non-null  object \n",
            " 10  Monthly Debt                  100000 non-null  float64\n",
            " 11  Years of Credit History       100000 non-null  float64\n",
            " 12  Months since last delinquent  46859 non-null   float64\n",
            " 13  Number of Open Accounts       100000 non-null  float64\n",
            " 14  Number of Credit Problems     100000 non-null  float64\n",
            " 15  Current Credit Balance        100000 non-null  float64\n",
            " 16  Maximum Open Credit           99998 non-null   float64\n",
            " 17  Bankruptcies                  99796 non-null   float64\n",
            " 18  Tax Liens                     99990 non-null   float64\n",
            "dtypes: float64(12), object(7)\n",
            "memory usage: 14.6+ MB\n"
          ]
        }
      ],
      "source": [
        "train_data.info()"
      ]
    },
    {
      "cell_type": "code",
      "execution_count": null,
      "metadata": {
        "colab": {
          "base_uri": "https://localhost:8080/",
          "height": 338
        },
        "id": "YoW31bNcCM84",
        "outputId": "895c8219-e1c0-40e8-8d24-f4d41a8cf2d2"
      },
      "outputs": [
        {
          "output_type": "execute_result",
          "data": {
            "text/plain": [
              "<matplotlib.legend.Legend at 0x7fab7be0f700>"
            ]
          },
          "metadata": {},
          "execution_count": 46
        },
        {
          "output_type": "display_data",
          "data": {
            "text/plain": [
              "<Figure size 432x288 with 1 Axes>"
            ],
            "image/png": "[encoded data removed]"
          },
          "metadata": {
            "needs_background": "light"
          }
        }
      ],
      "source": [
        "import matplotlib.pyplot as plt\n",
        "import seaborn as sns\n",
        "sns.countplot(x ='Years in current job', hue = \"Loan Status\", data = train_data)\n",
        "plt.xticks(rotation=90)\n",
        "plt.legend()"
      ]
    },
    {
      "cell_type": "code",
      "execution_count": null,
      "metadata": {
        "id": "NvaUrvjYkq9F"
      },
      "outputs": [],
      "source": [
        "from sklearn.preprocessing import LabelEncoder\n",
        "label_encode=LabelEncoder()"
      ]
    },
    {
      "cell_type": "code",
      "source": [
        "df = train_data.dropna()"
      ],
      "metadata": {
        "id": "DSos6qxdW0tn"
      },
      "execution_count": null,
      "outputs": []
    },
    {
      "cell_type": "code",
      "source": [
        "df['Term']=label_encode.fit_transform(df['Term'])\n",
        "df['Years in current job']=label_encode.fit_transform(df['Years in current job'])\n",
        "df['Home Ownership']=label_encode.fit_transform(df['Home Ownership'])\n",
        "df['Purpose']=label_encode.fit_transform(df['Purpose'])\n",
        "df['Loan Status']=label_encode.fit_transform(df['Loan Status'])\n"
      ],
      "metadata": {
        "colab": {
          "base_uri": "https://localhost:8080/"
        },
        "id": "2ct3tFdaXXPb",
        "outputId": "7ebb1732-a61b-48ca-85a9-ba8b34f82c04"
      },
      "execution_count": null,
      "outputs": [
        {
          "output_type": "stream",
          "name": "stderr",
          "text": [
            "<ipython-input-52-0da27a083163>:1: SettingWithCopyWarning: \n",
            "A value is trying to be set on a copy of a slice from a DataFrame.\n",
            "Try using .loc[row_indexer,col_indexer] = value instead\n",
            "\n",
            "See the caveats in the documentation: https://pandas.pydata.org/pandas-docs/stable/user_guide/indexing.html#returning-a-view-versus-a-copy\n",
            "  df['Term']=label_encode.fit_transform(df['Term'])\n",
            "<ipython-input-52-0da27a083163>:2: SettingWithCopyWarning: \n",
            "A value is trying to be set on a copy of a slice from a DataFrame.\n",
            "Try using .loc[row_indexer,col_indexer] = value instead\n",
            "\n",
            "See the caveats in the documentation: https://pandas.pydata.org/pandas-docs/stable/user_guide/indexing.html#returning-a-view-versus-a-copy\n",
            "  df['Years in current job']=label_encode.fit_transform(df['Years in current job'])\n",
            "<ipython-input-52-0da27a083163>:3: SettingWithCopyWarning: \n",
            "A value is trying to be set on a copy of a slice from a DataFrame.\n",
            "Try using .loc[row_indexer,col_indexer] = value instead\n",
            "\n",
            "See the caveats in the documentation: https://pandas.pydata.org/pandas-docs/stable/user_guide/indexing.html#returning-a-view-versus-a-copy\n",
            "  df['Home Ownership']=label_encode.fit_transform(df['Home Ownership'])\n",
            "<ipython-input-52-0da27a083163>:4: SettingWithCopyWarning: \n",
            "A value is trying to be set on a copy of a slice from a DataFrame.\n",
            "Try using .loc[row_indexer,col_indexer] = value instead\n",
            "\n",
            "See the caveats in the documentation: https://pandas.pydata.org/pandas-docs/stable/user_guide/indexing.html#returning-a-view-versus-a-copy\n",
            "  df['Purpose']=label_encode.fit_transform(df['Purpose'])\n",
            "<ipython-input-52-0da27a083163>:5: SettingWithCopyWarning: \n",
            "A value is trying to be set on a copy of a slice from a DataFrame.\n",
            "Try using .loc[row_indexer,col_indexer] = value instead\n",
            "\n",
            "See the caveats in the documentation: https://pandas.pydata.org/pandas-docs/stable/user_guide/indexing.html#returning-a-view-versus-a-copy\n",
            "  df['Loan Status']=label_encode.fit_transform(df['Loan Status'])\n"
          ]
        }
      ]
    },
    {
      "cell_type": "code",
      "source": [
        "df"
      ],
      "metadata": {
        "colab": {
          "base_uri": "https://localhost:8080/",
          "height": 1000
        },
        "id": "XlQ8CkfOYMb7",
        "outputId": "54fa3e9f-6d90-4f3c-ba88-aaef3117eb10"
      },
      "execution_count": null,
      "outputs": [
        {
          "output_type": "execute_result",
          "data": {
            "text/plain": [
              "                                    Loan ID  \\\n",
              "2      4eed4e6a-aa2f-4c91-8651-ce984ee8fb26   \n",
              "6      273581de-85d8-4332-81a5-19b04ce68666   \n",
              "8      8af915d9-9e91-44a0-b5a2-564a45c12089   \n",
              "10     32c2e48f-1ba8-45e0-a530-9a6622c18d9c   \n",
              "12     403d7235-0284-4bb6-919a-09402fecbf7b   \n",
              "...                                     ...   \n",
              "99990  686017b3-dc24-4f8a-af92-0bd077452d3d   \n",
              "99993  79b81158-5d55-4766-8ad6-ebcd683f7d59   \n",
              "99994  8506a4e9-af7d-47d2-a1bf-7ea2c41858f0   \n",
              "99996  06eba04f-58fc-424a-b666-ed72aa008900   \n",
              "99997  e1cb4050-eff5-4bdb-a1b0-aabd3f7eaac7   \n",
              "\n",
              "                                Customer ID  Loan Status  Current Loan Amount  \\\n",
              "2      5efb2b2b-bf11-4dfd-a572-3761a2694725            1           99999999.0   \n",
              "6      90a75dde-34d5-419c-90dc-1e58b04b3e35            1             217646.0   \n",
              "8      af534dea-d27e-4fd6-9de8-efaa52a78ec0            1             548746.0   \n",
              "10     0de7bcdb-ebf4-4608-ba39-05f083f855b6            1           99999999.0   \n",
              "12     11581f68-de3c-49d8-80d9-22268ebb323b            1           99999999.0   \n",
              "...                                     ...          ...                  ...   \n",
              "99990  1a583add-21ba-410f-9c42-757c4ed19322            1           99999999.0   \n",
              "99993  e45e8dc4-05ad-4efe-92cc-784a6d5ef61a            1              44484.0   \n",
              "99994  be67200e-1ef1-4b63-86a6-2bf27d3c704d            1             210584.0   \n",
              "99996  77f2252a-b7d1-4b07-a746-1202a8304290            1           99999999.0   \n",
              "99997  2ced5f10-bd60-4a11-9134-cadce4e7b0a3            1             103136.0   \n",
              "\n",
              "       Term  Credit Score  Annual Income  Years in current job  \\\n",
              "2         1         741.0      2231892.0                     8   \n",
              "6         1         730.0      1184194.0                    10   \n",
              "8         1         678.0      2559110.0                     2   \n",
              "10        1         728.0       714628.0                     3   \n",
              "12        1         740.0       776188.0                    10   \n",
              "...     ...           ...            ...                   ...   \n",
              "99990     1         742.0      1190046.0                    10   \n",
              "99993     1         717.0      1152426.0                     1   \n",
              "99994     1         719.0       783389.0                     0   \n",
              "99996     1         732.0      1289416.0                     0   \n",
              "99997     1         742.0      1150545.0                     6   \n",
              "\n",
              "       Home Ownership  Purpose  Monthly Debt  Years of Credit History  \\\n",
              "2                   2        3      29200.53                     14.9   \n",
              "6                   1        3      10855.08                     19.6   \n",
              "8                   3        3      18660.28                     22.6   \n",
              "10                  3        3      11851.06                     16.0   \n",
              "12                  2        3      11578.22                      8.5   \n",
              "...               ...      ...           ...                      ...   \n",
              "99990               3       11      11969.81                     20.1   \n",
              "99993               1       13       6280.64                     21.0   \n",
              "99994               1        7       3727.61                     17.4   \n",
              "99996               3        3      13109.05                      9.4   \n",
              "99997               3        3       7315.57                     18.8   \n",
              "\n",
              "       Months since last delinquent  Number of Open Accounts  \\\n",
              "2                              29.0                     18.0   \n",
              "6                              10.0                     13.0   \n",
              "8                              33.0                      4.0   \n",
              "10                             76.0                     16.0   \n",
              "12                             25.0                      6.0   \n",
              "...                             ...                      ...   \n",
              "99990                          16.0                      9.0   \n",
              "99993                          12.0                      6.0   \n",
              "99994                          18.0                      6.0   \n",
              "99996                          21.0                     22.0   \n",
              "99997                          18.0                     12.0   \n",
              "\n",
              "       Number of Credit Problems  Current Credit Balance  Maximum Open Credit  \\\n",
              "2                            1.0                297996.0             750090.0   \n",
              "6                            1.0                122170.0             272052.0   \n",
              "8                            0.0                437171.0             555038.0   \n",
              "10                           0.0                203965.0             289784.0   \n",
              "12                           0.0                134083.0             220220.0   \n",
              "...                          ...                     ...                  ...   \n",
              "99990                        0.0                 37392.0             134442.0   \n",
              "99993                        0.0                961932.0                  0.0   \n",
              "99994                        0.0                   456.0             259160.0   \n",
              "99996                        0.0                153045.0             509234.0   \n",
              "99997                        1.0                109554.0             537548.0   \n",
              "\n",
              "       Bankruptcies  Tax Liens  \n",
              "2               0.0        0.0  \n",
              "6               1.0        0.0  \n",
              "8               0.0        0.0  \n",
              "10              0.0        0.0  \n",
              "12              0.0        0.0  \n",
              "...             ...        ...  \n",
              "99990           0.0        0.0  \n",
              "99993           0.0        0.0  \n",
              "99994           0.0        0.0  \n",
              "99996           0.0        0.0  \n",
              "99997           1.0        0.0  \n",
              "\n",
              "[36423 rows x 19 columns]"
            ],
            "text/html": [
              "\n",
              "  <div id=\"df-33d0386a-bd72-4e01-95f6-8a7a72a8c657\">\n",
              "    <div class=\"colab-df-container\">\n",
              "      <div>\n",
              "<style scoped>\n",
              "    .dataframe tbody tr th:only-of-type {\n",
              "        vertical-align: middle;\n",
              "    }\n",
              "\n",
              "    .dataframe tbody tr th {\n",
              "        vertical-align: top;\n",
              "    }\n",
              "\n",
              "    .dataframe thead th {\n",
              "        text-align: right;\n",
              "    }\n",
              "</style>\n",
              "<table border=\"1\" class=\"dataframe\">\n",
              "  <thead>\n",
              "    <tr style=\"text-align: right;\">\n",
              "      <th></th>\n",
              "      <th>Loan ID</th>\n",
              "      <th>Customer ID</th>\n",
              "      <th>Loan Status</th>\n",
              "      <th>Current Loan Amount</th>\n",
              "      <th>Term</th>\n",
              "      <th>Credit Score</th>\n",
              "      <th>Annual Income</th>\n",
              "      <th>Years in current job</th>\n",
              "      <th>Home Ownership</th>\n",
              "      <th>Purpose</th>\n",
              "      <th>Monthly Debt</th>\n",
              "      <th>Years of Credit History</th>\n",
              "      <th>Months since last delinquent</th>\n",
              "      <th>Number of Open Accounts</th>\n",
              "      <th>Number of Credit Problems</th>\n",
              "      <th>Current Credit Balance</th>\n",
              "      <th>Maximum Open Credit</th>\n",
              "      <th>Bankruptcies</th>\n",
              "      <th>Tax Liens</th>\n",
              "    </tr>\n",
              "  </thead>\n",
              "  <tbody>\n",
              "    <tr>\n",
              "      <th>2</th>\n",
              "      <td>4eed4e6a-aa2f-4c91-8651-ce984ee8fb26</td>\n",
              "      <td>5efb2b2b-bf11-4dfd-a572-3761a2694725</td>\n",
              "      <td>1</td>\n",
              "      <td>99999999.0</td>\n",
              "      <td>1</td>\n",
              "      <td>741.0</td>\n",
              "      <td>2231892.0</td>\n",
              "      <td>8</td>\n",
              "      <td>2</td>\n",
              "      <td>3</td>\n",
              "      <td>29200.53</td>\n",
              "      <td>14.9</td>\n",
              "      <td>29.0</td>\n",
              "      <td>18.0</td>\n",
              "      <td>1.0</td>\n",
              "      <td>297996.0</td>\n",
              "      <td>750090.0</td>\n",
              "      <td>0.0</td>\n",
              "      <td>0.0</td>\n",
              "    </tr>\n",
              "    <tr>\n",
              "      <th>6</th>\n",
              "      <td>273581de-85d8-4332-81a5-19b04ce68666</td>\n",
              "      <td>90a75dde-34d5-419c-90dc-1e58b04b3e35</td>\n",
              "      <td>1</td>\n",
              "      <td>217646.0</td>\n",
              "      <td>1</td>\n",
              "      <td>730.0</td>\n",
              "      <td>1184194.0</td>\n",
              "      <td>10</td>\n",
              "      <td>1</td>\n",
              "      <td>3</td>\n",
              "      <td>10855.08</td>\n",
              "      <td>19.6</td>\n",
              "      <td>10.0</td>\n",
              "      <td>13.0</td>\n",
              "      <td>1.0</td>\n",
              "      <td>122170.0</td>\n",
              "      <td>272052.0</td>\n",
              "      <td>1.0</td>\n",
              "      <td>0.0</td>\n",
              "    </tr>\n",
              "    <tr>\n",
              "      <th>8</th>\n",
              "      <td>8af915d9-9e91-44a0-b5a2-564a45c12089</td>\n",
              "      <td>af534dea-d27e-4fd6-9de8-efaa52a78ec0</td>\n",
              "      <td>1</td>\n",
              "      <td>548746.0</td>\n",
              "      <td>1</td>\n",
              "      <td>678.0</td>\n",
              "      <td>2559110.0</td>\n",
              "      <td>2</td>\n",
              "      <td>3</td>\n",
              "      <td>3</td>\n",
              "      <td>18660.28</td>\n",
              "      <td>22.6</td>\n",
              "      <td>33.0</td>\n",
              "      <td>4.0</td>\n",
              "      <td>0.0</td>\n",
              "      <td>437171.0</td>\n",
              "      <td>555038.0</td>\n",
              "      <td>0.0</td>\n",
              "      <td>0.0</td>\n",
              "    </tr>\n",
              "    <tr>\n",
              "      <th>10</th>\n",
              "      <td>32c2e48f-1ba8-45e0-a530-9a6622c18d9c</td>\n",
              "      <td>0de7bcdb-ebf4-4608-ba39-05f083f855b6</td>\n",
              "      <td>1</td>\n",
              "      <td>99999999.0</td>\n",
              "      <td>1</td>\n",
              "      <td>728.0</td>\n",
              "      <td>714628.0</td>\n",
              "      <td>3</td>\n",
              "      <td>3</td>\n",
              "      <td>3</td>\n",
              "      <td>11851.06</td>\n",
              "      <td>16.0</td>\n",
              "      <td>76.0</td>\n",
              "      <td>16.0</td>\n",
              "      <td>0.0</td>\n",
              "      <td>203965.0</td>\n",
              "      <td>289784.0</td>\n",
              "      <td>0.0</td>\n",
              "      <td>0.0</td>\n",
              "    </tr>\n",
              "    <tr>\n",
              "      <th>12</th>\n",
              "      <td>403d7235-0284-4bb6-919a-09402fecbf7b</td>\n",
              "      <td>11581f68-de3c-49d8-80d9-22268ebb323b</td>\n",
              "      <td>1</td>\n",
              "      <td>99999999.0</td>\n",
              "      <td>1</td>\n",
              "      <td>740.0</td>\n",
              "      <td>776188.0</td>\n",
              "      <td>10</td>\n",
              "      <td>2</td>\n",
              "      <td>3</td>\n",
              "      <td>11578.22</td>\n",
              "      <td>8.5</td>\n",
              "      <td>25.0</td>\n",
              "      <td>6.0</td>\n",
              "      <td>0.0</td>\n",
              "      <td>134083.0</td>\n",
              "      <td>220220.0</td>\n",
              "      <td>0.0</td>\n",
              "      <td>0.0</td>\n",
              "    </tr>\n",
              "    <tr>\n",
              "      <th>...</th>\n",
              "      <td>...</td>\n",
              "      <td>...</td>\n",
              "      <td>...</td>\n",
              "      <td>...</td>\n",
              "      <td>...</td>\n",
              "      <td>...</td>\n",
              "      <td>...</td>\n",
              "      <td>...</td>\n",
              "      <td>...</td>\n",
              "      <td>...</td>\n",
              "      <td>...</td>\n",
              "      <td>...</td>\n",
              "      <td>...</td>\n",
              "      <td>...</td>\n",
              "      <td>...</td>\n",
              "      <td>...</td>\n",
              "      <td>...</td>\n",
              "      <td>...</td>\n",
              "      <td>...</td>\n",
              "    </tr>\n",
              "    <tr>\n",
              "      <th>99990</th>\n",
              "      <td>686017b3-dc24-4f8a-af92-0bd077452d3d</td>\n",
              "      <td>1a583add-21ba-410f-9c42-757c4ed19322</td>\n",
              "      <td>1</td>\n",
              "      <td>99999999.0</td>\n",
              "      <td>1</td>\n",
              "      <td>742.0</td>\n",
              "      <td>1190046.0</td>\n",
              "      <td>10</td>\n",
              "      <td>3</td>\n",
              "      <td>11</td>\n",
              "      <td>11969.81</td>\n",
              "      <td>20.1</td>\n",
              "      <td>16.0</td>\n",
              "      <td>9.0</td>\n",
              "      <td>0.0</td>\n",
              "      <td>37392.0</td>\n",
              "      <td>134442.0</td>\n",
              "      <td>0.0</td>\n",
              "      <td>0.0</td>\n",
              "    </tr>\n",
              "    <tr>\n",
              "      <th>99993</th>\n",
              "      <td>79b81158-5d55-4766-8ad6-ebcd683f7d59</td>\n",
              "      <td>e45e8dc4-05ad-4efe-92cc-784a6d5ef61a</td>\n",
              "      <td>1</td>\n",
              "      <td>44484.0</td>\n",
              "      <td>1</td>\n",
              "      <td>717.0</td>\n",
              "      <td>1152426.0</td>\n",
              "      <td>1</td>\n",
              "      <td>1</td>\n",
              "      <td>13</td>\n",
              "      <td>6280.64</td>\n",
              "      <td>21.0</td>\n",
              "      <td>12.0</td>\n",
              "      <td>6.0</td>\n",
              "      <td>0.0</td>\n",
              "      <td>961932.0</td>\n",
              "      <td>0.0</td>\n",
              "      <td>0.0</td>\n",
              "      <td>0.0</td>\n",
              "    </tr>\n",
              "    <tr>\n",
              "      <th>99994</th>\n",
              "      <td>8506a4e9-af7d-47d2-a1bf-7ea2c41858f0</td>\n",
              "      <td>be67200e-1ef1-4b63-86a6-2bf27d3c704d</td>\n",
              "      <td>1</td>\n",
              "      <td>210584.0</td>\n",
              "      <td>1</td>\n",
              "      <td>719.0</td>\n",
              "      <td>783389.0</td>\n",
              "      <td>0</td>\n",
              "      <td>1</td>\n",
              "      <td>7</td>\n",
              "      <td>3727.61</td>\n",
              "      <td>17.4</td>\n",
              "      <td>18.0</td>\n",
              "      <td>6.0</td>\n",
              "      <td>0.0</td>\n",
              "      <td>456.0</td>\n",
              "      <td>259160.0</td>\n",
              "      <td>0.0</td>\n",
              "      <td>0.0</td>\n",
              "    </tr>\n",
              "    <tr>\n",
              "      <th>99996</th>\n",
              "      <td>06eba04f-58fc-424a-b666-ed72aa008900</td>\n",
              "      <td>77f2252a-b7d1-4b07-a746-1202a8304290</td>\n",
              "      <td>1</td>\n",
              "      <td>99999999.0</td>\n",
              "      <td>1</td>\n",
              "      <td>732.0</td>\n",
              "      <td>1289416.0</td>\n",
              "      <td>0</td>\n",
              "      <td>3</td>\n",
              "      <td>3</td>\n",
              "      <td>13109.05</td>\n",
              "      <td>9.4</td>\n",
              "      <td>21.0</td>\n",
              "      <td>22.0</td>\n",
              "      <td>0.0</td>\n",
              "      <td>153045.0</td>\n",
              "      <td>509234.0</td>\n",
              "      <td>0.0</td>\n",
              "      <td>0.0</td>\n",
              "    </tr>\n",
              "    <tr>\n",
              "      <th>99997</th>\n",
              "      <td>e1cb4050-eff5-4bdb-a1b0-aabd3f7eaac7</td>\n",
              "      <td>2ced5f10-bd60-4a11-9134-cadce4e7b0a3</td>\n",
              "      <td>1</td>\n",
              "      <td>103136.0</td>\n",
              "      <td>1</td>\n",
              "      <td>742.0</td>\n",
              "      <td>1150545.0</td>\n",
              "      <td>6</td>\n",
              "      <td>3</td>\n",
              "      <td>3</td>\n",
              "      <td>7315.57</td>\n",
              "      <td>18.8</td>\n",
              "      <td>18.0</td>\n",
              "      <td>12.0</td>\n",
              "      <td>1.0</td>\n",
              "      <td>109554.0</td>\n",
              "      <td>537548.0</td>\n",
              "      <td>1.0</td>\n",
              "      <td>0.0</td>\n",
              "    </tr>\n",
              "  </tbody>\n",
              "</table>\n",
              "<p>36423 rows × 19 columns</p>\n",
              "</div>\n",
              "      <button class=\"colab-df-convert\" onclick=\"convertToInteractive('df-33d0386a-bd72-4e01-95f6-8a7a72a8c657')\"\n",
              "              title=\"Convert this dataframe to an interactive table.\"\n",
              "              style=\"display:none;\">\n",
              "        \n",
              "  <svg xmlns=\"http://www.w3.org/2000/svg\" height=\"24px\"viewBox=\"0 0 24 24\"\n",
              "       width=\"24px\">\n",
              "    <path d=\"M0 0h24v24H0V0z\" fill=\"none\"/>\n",
              "    <path d=\"M18.56 5.44l.94 2.06.94-2.06 2.06-.94-2.06-.94-.94-2.06-.94 2.06-2.06.94zm-11 1L8.5 8.5l.94-2.06 2.06-.94-2.06-.94L8.5 2.5l-.94 2.06-2.06.94zm10 10l.94 2.06.94-2.06 2.06-.94-2.06-.94-.94-2.06-.94 2.06-2.06.94z\"/><path d=\"M17.41 7.96l-1.37-1.37c-.4-.4-.92-.59-1.43-.59-.52 0-1.04.2-1.43.59L10.3 9.45l-7.72 7.72c-.78.78-.78 2.05 0 2.83L4 21.41c.39.39.9.59 1.41.59.51 0 1.02-.2 1.41-.59l7.78-7.78 2.81-2.81c.8-.78.8-2.07 0-2.86zM5.41 20L4 18.59l7.72-7.72 1.47 1.35L5.41 20z\"/>\n",
              "  </svg>\n",
              "      </button>\n",
              "      \n",
              "  <style>\n",
              "    .colab-df-container {\n",
              "      display:flex;\n",
              "      flex-wrap:wrap;\n",
              "      gap: 12px;\n",
              "    }\n",
              "\n",
              "    .colab-df-convert {\n",
              "      background-color: #E8F0FE;\n",
              "      border: none;\n",
              "      border-radius: 50%;\n",
              "      cursor: pointer;\n",
              "      display: none;\n",
              "      fill: #1967D2;\n",
              "      height: 32px;\n",
              "      padding: 0 0 0 0;\n",
              "      width: 32px;\n",
              "    }\n",
              "\n",
              "    .colab-df-convert:hover {\n",
              "      background-color: #E2EBFA;\n",
              "      box-shadow: 0px 1px 2px rgba(60, 64, 67, 0.3), 0px 1px 3px 1px rgba(60, 64, 67, 0.15);\n",
              "      fill: #174EA6;\n",
              "    }\n",
              "\n",
              "    [theme=dark] .colab-df-convert {\n",
              "      background-color: #3B4455;\n",
              "      fill: #D2E3FC;\n",
              "    }\n",
              "\n",
              "    [theme=dark] .colab-df-convert:hover {\n",
              "      background-color: #434B5C;\n",
              "      box-shadow: 0px 1px 3px 1px rgba(0, 0, 0, 0.15);\n",
              "      filter: drop-shadow(0px 1px 2px rgba(0, 0, 0, 0.3));\n",
              "      fill: #FFFFFF;\n",
              "    }\n",
              "  </style>\n",
              "\n",
              "      <script>\n",
              "        const buttonEl =\n",
              "          document.querySelector('#df-33d0386a-bd72-4e01-95f6-8a7a72a8c657 button.colab-df-convert');\n",
              "        buttonEl.style.display =\n",
              "          google.colab.kernel.accessAllowed ? 'block' : 'none';\n",
              "\n",
              "        async function convertToInteractive(key) {\n",
              "          const element = document.querySelector('#df-33d0386a-bd72-4e01-95f6-8a7a72a8c657');\n",
              "          const dataTable =\n",
              "            await google.colab.kernel.invokeFunction('convertToInteractive',\n",
              "                                                     [key], {});\n",
              "          if (!dataTable) return;\n",
              "\n",
              "          const docLinkHtml = 'Like what you see? Visit the ' +\n",
              "            '<a target=\"_blank\" href=https://colab.research.google.com/notebooks/data_table.ipynb>data table notebook</a>'\n",
              "            + ' to learn more about interactive tables.';\n",
              "          element.innerHTML = '';\n",
              "          dataTable['output_type'] = 'display_data';\n",
              "          await google.colab.output.renderOutput(dataTable, element);\n",
              "          const docLink = document.createElement('div');\n",
              "          docLink.innerHTML = docLinkHtml;\n",
              "          element.appendChild(docLink);\n",
              "        }\n",
              "      </script>\n",
              "    </div>\n",
              "  </div>\n",
              "  "
            ]
          },
          "metadata": {},
          "execution_count": 53
        }
      ]
    },
    {
      "cell_type": "code",
      "source": [
        "df.info()"
      ],
      "metadata": {
        "colab": {
          "base_uri": "https://localhost:8080/"
        },
        "id": "RKSTo2uqYYLY",
        "outputId": "38672ebb-66f0-4d67-c1fc-7e66c70d5ed3"
      },
      "execution_count": null,
      "outputs": [
        {
          "output_type": "stream",
          "name": "stdout",
          "text": [
            "<class 'pandas.core.frame.DataFrame'>\n",
            "Int64Index: 36423 entries, 2 to 99997\n",
            "Data columns (total 19 columns):\n",
            " #   Column                        Non-Null Count  Dtype  \n",
            "---  ------                        --------------  -----  \n",
            " 0   Loan ID                       36423 non-null  object \n",
            " 1   Customer ID                   36423 non-null  object \n",
            " 2   Loan Status                   36423 non-null  int64  \n",
            " 3   Current Loan Amount           36423 non-null  float64\n",
            " 4   Term                          36423 non-null  int64  \n",
            " 5   Credit Score                  36423 non-null  float64\n",
            " 6   Annual Income                 36423 non-null  float64\n",
            " 7   Years in current job          36423 non-null  int64  \n",
            " 8   Home Ownership                36423 non-null  int64  \n",
            " 9   Purpose                       36423 non-null  int64  \n",
            " 10  Monthly Debt                  36423 non-null  float64\n",
            " 11  Years of Credit History       36423 non-null  float64\n",
            " 12  Months since last delinquent  36423 non-null  float64\n",
            " 13  Number of Open Accounts       36423 non-null  float64\n",
            " 14  Number of Credit Problems     36423 non-null  float64\n",
            " 15  Current Credit Balance        36423 non-null  float64\n",
            " 16  Maximum Open Credit           36423 non-null  float64\n",
            " 17  Bankruptcies                  36423 non-null  float64\n",
            " 18  Tax Liens                     36423 non-null  float64\n",
            "dtypes: float64(12), int64(5), object(2)\n",
            "memory usage: 5.6+ MB\n"
          ]
        }
      ]
    },
    {
      "cell_type": "code",
      "source": [
        "x=df.drop(['Loan Status','Loan ID','Customer ID'],axis=1)\n",
        "y=df['Loan Status']"
      ],
      "metadata": {
        "id": "HVaYZli7Y_Bu"
      },
      "execution_count": null,
      "outputs": []
    },
    {
      "cell_type": "code",
      "source": [
        "from sklearn.preprocessing import StandardScaler\n",
        "from sklearn.model_selection import train_test_split\n",
        "scalar=StandardScaler()\n",
        "x_train,x_test,y_train,y_test=train_test_split(x,y,test_size=0.2,random_state=2)\n",
        "x_train_scaled=scalar.fit_transform(x_train)\n",
        "x_test_scaled=scalar.transform(x_test)"
      ],
      "metadata": {
        "id": "ykI52mnyYNGC"
      },
      "execution_count": null,
      "outputs": []
    },
    {
      "cell_type": "code",
      "source": [
        "from sklearn.svm import SVC\n",
        "from sklearn.metrics import precision_score,f1_score,recall_score,accuracy_score\n",
        "classifier=SVC()\n",
        "classifier.fit(x_train_scaled,y_train)\n",
        "x_train_Prediction=classifier.predict(x_train_scaled)\n",
        "\n",
        "x_test_Prediction=classifier.predict(x_test_scaled)\n",
        "print('Accuracy score of trained data ',accuracy_score(x_train_Prediction,y_train))\n",
        "print('Accuracy score of test data ',accuracy_score(x_test_Prediction,y_test))\n",
        "\n",
        "print(\"Precision score \",precision_score(x_test_Prediction,y_test))\n",
        "print(\"f1 score \",f1_score(x_test_Prediction,y_test))\n",
        "print(\"recall score \",recall_score(x_test_Prediction,y_test))"
      ],
      "metadata": {
        "colab": {
          "base_uri": "https://localhost:8080/"
        },
        "id": "zP-wNZkAYywx",
        "outputId": "7f9e501f-fca3-4a2d-dcae-62049c6ba903"
      },
      "execution_count": null,
      "outputs": [
        {
          "output_type": "stream",
          "name": "stdout",
          "text": [
            "Accuracy score of trained data  0.8481707735602992\n",
            "Accuracy score of test data  0.8554564172958133\n",
            "Precision score  1.0\n",
            "f1 score  0.9173144876325088\n",
            "recall score  0.8472584856396866\n"
          ]
        }
      ]
    },
    {
      "cell_type": "code",
      "source": [
        "from sklearn.ensemble import RandomForestClassifier\n",
        "rf_model=RandomForestClassifier()\n",
        "rf_model.fit(x_train_scaled,y_train)\n",
        "y_prediction1=rf_model.predict(x_train_scaled)\n",
        "y_prediction_test1=rf_model.predict(x_test_scaled)\n",
        "print(\" Randomforrest Classifier train accuracy: \",accuracy_score(y_prediction1,y_train))\n",
        "print(\"Randomforrest Classifier test accuracy: \",accuracy_score(y_prediction_test1,y_test))\n",
        "from sklearn.metrics import precision_score,f1_score\n",
        "print(\"Precision score \",precision_score(y_prediction_test1,y_test))\n",
        "print(\"f1 score \",f1_score(y_prediction_test1,y_test))\n",
        "print(\"recall score \",recall_score(y_prediction_test1,y_test))"
      ],
      "metadata": {
        "colab": {
          "base_uri": "https://localhost:8080/"
        },
        "id": "rP3kCKKiZdXb",
        "outputId": "9d4f1e45-3fde-4ee4-e668-1d1c383a72ce"
      },
      "execution_count": null,
      "outputs": [
        {
          "output_type": "stream",
          "name": "stdout",
          "text": [
            " Randomforrest Classifier train accuracy:  1.0\n",
            "Randomforrest Classifier test accuracy:  0.8544955387783116\n",
            "Precision score  0.995035096730012\n",
            "f1 score  0.9164301482182277\n",
            "recall score  0.849335086950168\n"
          ]
        }
      ]
    },
    {
      "cell_type": "code",
      "source": [
        "from sklearn.ensemble import GradientBoostingClassifier\n",
        "cls=GradientBoostingClassifier()\n",
        "cls.fit(x_train_scaled,y_train)\n",
        "y_predictioncl=cls.predict(x_train_scaled)\n",
        "y_prediction_testcl=cls.predict(x_test_scaled)\n",
        "print(\" Gradient Boosting train accuracy: \",accuracy_score(y_predictioncl,y_train))\n",
        "print(\"Gradient Boosting test accuracy: \",accuracy_score(y_prediction_testcl,y_test))\n",
        "print(\"Precision score \",precision_score(y_prediction_testcl,y_test))\n",
        "print(\"f1 score \",f1_score(y_prediction_testcl,y_test))\n",
        "print(\"recall score \",recall_score(y_prediction_testcl,y_test))"
      ],
      "metadata": {
        "colab": {
          "base_uri": "https://localhost:8080/"
        },
        "id": "HIX8iOSXZh7G",
        "outputId": "ed38983e-52c8-4104-c646-a98df4d6e2e7"
      },
      "execution_count": null,
      "outputs": [
        {
          "output_type": "stream",
          "name": "stdout",
          "text": [
            " Gradient Boosting train accuracy:  0.8486512457958679\n",
            "Gradient Boosting test accuracy:  0.8558682223747426\n",
            "Precision score  0.9993151857558638\n",
            "f1 score  0.9174787802577806\n",
            "recall score  0.8480313816649717\n"
          ]
        }
      ]
    },
    {
      "cell_type": "code",
      "source": [
        "from sklearn.linear_model import LogisticRegression\n",
        "Logical=LogisticRegression()\n",
        "Logical.fit(x_train_scaled,y_train)\n",
        "y_prediction2=Logical.predict(x_train_scaled)\n",
        "y_prediction_test=Logical.predict(x_test_scaled)\n",
        "print(\"Logistic Regression Classifier train accuracy: \",accuracy_score(y_prediction2,y_train))\n",
        "print(\"Logistic Regression Classifier test accuracy: \",accuracy_score(y_prediction_test,y_test))\n",
        "print(\"Precision score \",precision_score(y_prediction_test,y_test))\n",
        "print(\"f1 score \",f1_score(y_prediction_test,y_test))\n",
        "print(\"recall score \",recall_score(y_prediction_test,y_test))"
      ],
      "metadata": {
        "colab": {
          "base_uri": "https://localhost:8080/"
        },
        "id": "tyKb2rX3ZkhE",
        "outputId": "1f06eddc-e381-4d75-f59f-ab5d652de646"
      },
      "execution_count": null,
      "outputs": [
        {
          "output_type": "stream",
          "name": "stdout",
          "text": [
            "Logistic Regression Classifier train accuracy:  0.8474500652069462\n",
            "Logistic Regression Classifier test accuracy:  0.8555936856554565\n",
            "Precision score  1.0\n",
            "f1 score  0.9173865242657453\n",
            "recall score  0.8473814014217322\n"
          ]
        }
      ]
    },
    {
      "cell_type": "code",
      "source": [
        "from sklearn.naive_bayes import GaussianNB\n",
        "NB=GaussianNB()\n",
        "NB.fit(x_train_scaled,y_train)\n",
        "y_prediction1=NB.predict(x_train_scaled)\n",
        "y_prediction2=NB.predict(x_test_scaled)\n",
        "print(\"Gaussian NB Classifier train accuracy: \",accuracy_score(y_prediction1,y_train))\n",
        "print(\"Gaussian NB Classifier test accuracy: \",accuracy_score(y_prediction2,y_test))\n",
        "print(\"Precision score \",precision_score(y_prediction2,y_test))\n",
        "print(\"f1 score \",f1_score(y_prediction2,y_test))\n",
        "print(\"recall score \",recall_score(y_prediction2,y_test))"
      ],
      "metadata": {
        "colab": {
          "base_uri": "https://localhost:8080/"
        },
        "id": "BPo9CwatZozy",
        "outputId": "5ce96482-4ca5-443b-d1f4-0b2f888cb1aa"
      },
      "execution_count": null,
      "outputs": [
        {
          "output_type": "stream",
          "name": "stdout",
          "text": [
            "Gaussian NB Classifier train accuracy:  0.7092113391447594\n",
            "Gaussian NB Classifier test accuracy:  0.7063829787234043\n",
            "Precision score  0.7377161444958055\n",
            "f1 score  0.8011527377521614\n",
            "recall score  0.8765256305939788\n"
          ]
        }
      ]
    },
    {
      "cell_type": "code",
      "source": [
        "from sklearn.tree import DecisionTreeClassifier\n",
        "Dtree=DecisionTreeClassifier()\n",
        "Dtree.fit(x_train_scaled,y_train)\n",
        "y_prediction1=Dtree.predict(x_test_scaled)\n",
        "y_prediction2=Dtree.predict(x_train_scaled)\n",
        "print(\"Decision Tree Classifier train accuracy: \",accuracy_score(y_prediction2,y_train))\n",
        "print(\"Decision Tree Classifier test accuracy: \",accuracy_score(y_prediction1,y_test))\n",
        "print(\"Precision score \",precision_score(y_prediction1,y_test))\n",
        "print(\"f1 score \",f1_score(y_prediction1,y_test))\n",
        "print(\"recall score \",recall_score(y_prediction1,y_test))"
      ],
      "metadata": {
        "colab": {
          "base_uri": "https://localhost:8080/"
        },
        "id": "9MnWWKpBZq5Y",
        "outputId": "5536f30c-1cbe-4801-dd8e-6278e002a88d"
      },
      "execution_count": null,
      "outputs": [
        {
          "output_type": "stream",
          "name": "stdout",
          "text": [
            "Decision Tree Classifier train accuracy:  1.0\n",
            "Decision Tree Classifier test accuracy:  0.7947838023335622\n",
            "Precision score  0.8784454716658107\n",
            "f1 score  0.8728417113209151\n",
            "recall score  0.8673089925625422\n"
          ]
        }
      ]
    },
    {
      "cell_type": "code",
      "source": [
        "\n",
        "from sklearn.neighbors import KNeighborsClassifier\n",
        "knn=KNeighborsClassifier()\n",
        "knn.fit(x_train_scaled,y_train)\n",
        "y_prediction2=knn.predict(x_train_scaled)\n",
        "y_prediction4=knn.predict(x_test_scaled)\n",
        "print(\"KNN Classifier train accuracy: \",accuracy_score(y_prediction2,y_train))\n",
        "print(\"KNN Classifier test accuracy: \",accuracy_score(y_prediction4,y_test))\n",
        "print(\"Precision score \",precision_score(y_prediction4,y_test))\n",
        "print(\"f1 score \",f1_score(y_prediction4,y_test))\n",
        "print(\"recall score \",recall_score(y_prediction4,y_test))"
      ],
      "metadata": {
        "colab": {
          "base_uri": "https://localhost:8080/"
        },
        "id": "cqBzIE-OZszY",
        "outputId": "451bc609-7488-4600-f9a8-95596751ebbd"
      },
      "execution_count": null,
      "outputs": [
        {
          "output_type": "stream",
          "name": "stdout",
          "text": [
            "KNN Classifier train accuracy:  0.8638890795524744\n",
            "KNN Classifier test accuracy:  0.8337680164722031\n",
            "Precision score  0.9589111453518233\n",
            "f1 score  0.9024409892854266\n",
            "recall score  0.8522519780888619\n"
          ]
        }
      ]
    }
  ],
  "metadata": {
    "colab": {
      "provenance": []
    },
    "kernelspec": {
      "display_name": "Python 3",
      "name": "python3"
    },
    "language_info": {
      "name": "python"
    }
  },
  "nbformat": 4,
  "nbformat_minor": 0
}